{
 "cells": [
  {
   "cell_type": "markdown",
   "metadata": {},
   "source": [
    "# <font color='blue'>Data Science Academy</font>\n",
    "# <font color='blue'>Matemática Para Machine Learning</font>"
   ]
  },
  {
   "cell_type": "markdown",
   "metadata": {},
   "source": [
    "## Lista de Exercícios  - Capítulo 7"
   ]
  },
  {
   "cell_type": "markdown",
   "metadata": {},
   "source": [
    "O objetivo desta lista de exercícios é você praticar os principais conceitos estudados neste capítulo, ao mesmo tempo que desenvolve suas habilidades em lógica de programação com a linguagem Python. \n",
    "\n",
    "Caso tenha dúvidas, isso é absolutamente normal e faça um trabalho de pesquisa a fim de relembrar o formato das operações matemáticas.\n",
    "\n",
    "Quando encontrar o formato de uma operação que resolva o exercício proposto, use a linguagem Python para representar esta operação. Em essência, é assim que aplicamos Matemática Para Machine Learning, construindo algoritmos e representando esses algoritmos em linguagem de programação."
   ]
  },
  {
   "cell_type": "markdown",
   "metadata": {},
   "source": [
    "Divirta-se!!"
   ]
  },
  {
   "cell_type": "markdown",
   "metadata": {},
   "source": [
    "### Exercício 1 - Resolva o sistema de equações:\n",
    "\n",
    "# 1x + 1y = 18\n",
    "# 2x + 4y = 24"
   ]
  },
  {
   "cell_type": "code",
   "execution_count": 1,
   "metadata": {},
   "outputs": [],
   "source": [
    "import numpy as np"
   ]
  },
  {
   "cell_type": "code",
   "execution_count": 3,
   "metadata": {},
   "outputs": [
    {
     "output_type": "stream",
     "name": "stdout",
     "text": "O valor para x é 24.0 e para y é -6.0\n"
    }
   ],
   "source": [
    "# Solução\n",
    "\n",
    "A = np.array([[1, 1], [2, 4]])\n",
    "b = np.array([18,24])\n",
    "\n",
    "x, y = np.linalg.solve(A, b)\n",
    "print(f'O valor para x é {x} e para y é {y}')"
   ]
  },
  {
   "cell_type": "markdown",
   "metadata": {},
   "source": [
    "### Exercício 2 - Resolva o sistema linear abaixo:\n",
    "\n",
    "# x+y+z = 2\n",
    "\n",
    "# 2x-6y-z=-1\n",
    "\n",
    "# 3x-2z=8\n",
    "\n",
    "Dica: organize os coeficientes na orientação das linhas no sistema linear."
   ]
  },
  {
   "cell_type": "code",
   "execution_count": 4,
   "metadata": {},
   "outputs": [
    {
     "output_type": "stream",
     "name": "stdout",
     "text": "Os valores são: x: 2.0, y: 1.0 e z -0.9999999999999999\n"
    }
   ],
   "source": [
    "# Solução \n",
    "\n",
    "A = np.array([[1, 1, 1], [2, -6, -1], [3, 0, -2]])\n",
    "b = np.array([2, -1, 8])\n",
    "\n",
    "x, y, z = np.linalg.solve(A, b)\n",
    "print(f'Os valores são: x: {x}, y: {y} e z {z}')"
   ]
  },
  {
   "cell_type": "markdown",
   "metadata": {},
   "source": [
    "### Exercício 3 - Resolva o sistema linear abaixo:\n",
    "\n",
    "# x+y+z = 2\n",
    "\n",
    "# 2x-6y-z=-1\n",
    "\n",
    "# 3x-2z=8\n",
    "\n",
    "Dica: organize os coeficientes na orientação das colunas no sistema linear."
   ]
  },
  {
   "cell_type": "code",
   "execution_count": 6,
   "metadata": {},
   "outputs": [
    {
     "output_type": "stream",
     "name": "stdout",
     "text": "Os valores são: x 2.0, y 1.0 e z -0.9999999999999999\n"
    }
   ],
   "source": [
    "# Solução \n",
    "A = np.array([[1, 2, 3], [1, -6, 0], [1, -1, -2]])\n",
    "b = np.array([2, -1, 8])\n",
    "\n",
    "x, y, z = np.linalg.solve(A.T, b)\n",
    "print(f'Os valores são: x {x}, y {y} e z {z}')"
   ]
  },
  {
   "cell_type": "markdown",
   "metadata": {},
   "source": [
    "### Exercício 4 - Resolva o sistema linear abaixo usando o método da matriz inversa:\n",
    "\n",
    "# x+y+z = 2\n",
    "\n",
    "# 2x-6y-z=-1\n",
    "\n",
    "# 3x-2z=8"
   ]
  },
  {
   "cell_type": "code",
   "execution_count": 8,
   "metadata": {},
   "outputs": [
    {
     "output_type": "stream",
     "name": "stdout",
     "text": "Os valores são: x 2.0, y 1.0 e z -0.9999999999999998\n"
    }
   ],
   "source": [
    "# Solução \n",
    "A = np.array([[1, 1, 1], [2, -6, -1], [3, 0, -2]])\n",
    "b = np.array([2, -1, 8])\n",
    "\n",
    "x, y, z = np.dot(np.linalg.inv(A), b)\n",
    "print(f'Os valores são: x {x}, y {y} e z {z}')"
   ]
  },
  {
   "cell_type": "markdown",
   "metadata": {},
   "source": [
    "### Exercício 5 - Resolva o sistema linear abaixo:\n",
    "\n",
    "# 3x+2y-4z+t = 30\n",
    "\n",
    "# 2x+3y+3z+2t=150\n",
    "\n",
    "# 5x-3y+z-5t=140\n",
    "\n",
    "# x+y+z+t=60"
   ]
  },
  {
   "cell_type": "code",
   "execution_count": 9,
   "metadata": {},
   "outputs": [
    {
     "output_type": "stream",
     "name": "stdout",
     "text": "Os valores são: x: 29.999999999999993, y:9.999999999999993, z:20.000000000000004 e t: 2.7773457359022727e-15\n"
    }
   ],
   "source": [
    "# Solução \n",
    "A = np.array([[3,2,-4,1], [2, 3, 3, 2], [5, -3, 1, -5], [1, 1, 1, 1]])\n",
    "b = np.array([30,150,140,60])\n",
    "\n",
    "x, y, z, t = np.linalg.solve(A, b)\n",
    "print(f'Os valores são: x: {x}, y:{y}, z:{z} e t: {t}')"
   ]
  },
  {
   "cell_type": "markdown",
   "metadata": {},
   "source": [
    "### Exercício 6 (Desafio) - Desenvolva uma função em Python que obtenha o mesmo resultado da função solve() abaixo.\n",
    "\n",
    "Dica: sua função deve receber a equação como parâmetro e não as matrizes."
   ]
  },
  {
   "cell_type": "code",
   "execution_count": null,
   "metadata": {},
   "outputs": [],
   "source": [
    "import numpy as np\n",
    "a = np.array([[3,5],[12,-3]]) \n",
    "b = np.array([[29],[24]])\n",
    "np.linalg.solve(a,b)"
   ]
  },
  {
   "cell_type": "code",
   "execution_count": null,
   "metadata": {},
   "outputs": [],
   "source": [
    "# Solução \n",
    "\n",
    "def mysolve(eq, var=('x', 'y')):\n",
    "    # Código aqui"
   ]
  },
  {
   "cell_type": "code",
   "execution_count": null,
   "metadata": {},
   "outputs": [],
   "source": [
    "# Solução \n",
    "\n",
    "mysolve('3*x + 5*y = 29; 12*x - 3*y = 24')"
   ]
  },
  {
   "cell_type": "markdown",
   "metadata": {},
   "source": [
    "## Fim"
   ]
  }
 ],
 "metadata": {
  "kernelspec": {
   "display_name": "Python 3.7.4 64-bit ('base': conda)",
   "language": "python",
   "name": "python37464bitbaseconda450caa3755604202b64d884a4c73ba4c"
  },
  "language_info": {
   "codemirror_mode": {
    "name": "ipython",
    "version": 3
   },
   "file_extension": ".py",
   "mimetype": "text/x-python",
   "name": "python",
   "nbconvert_exporter": "python",
   "pygments_lexer": "ipython3",
   "version": "3.7.4-final"
  }
 },
 "nbformat": 4,
 "nbformat_minor": 2
}